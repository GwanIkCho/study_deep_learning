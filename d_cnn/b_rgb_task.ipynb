{
 "cells": [
  {
   "cell_type": "code",
   "execution_count": null,
   "id": "843ff451-5b88-4e7c-9833-96dd9ebb8e77",
   "metadata": {},
   "outputs": [],
   "source": [
    "import ssl\n",
    "import urllib.request\n",
    "\n",
    "# SSL 인증서 검증 무시\n",
    "ssl._create_default_https_context = ssl._create_unverified_context\n",
    "\n",
    "# CIFAR-10 데이터셋 다운로드\n",
    "url = 'https://www.cs.toronto.edu/~kriz/cifar-100-python.tar.gz'\n",
    "filename = 'cifar-10-python.tar.gz'\n",
    "urllib.request.urlretrieve(url, filename)"
   ]
  },
  {
   "cell_type": "code",
   "execution_count": null,
   "id": "97ac42e3-9573-4fd0-91e7-655c23f3e6d0",
   "metadata": {},
   "outputs": [],
   "source": [
    "import numpy as np\n",
    "from tensorflow.keras.datasets import cifar100\n",
    "\n",
    "CLASS_NAMES = sorted(['beaver', 'dolphin', 'otter', 'seal', 'whale',  # aquatic mammals\n",
    "                           'aquarium' 'fish', 'flatfish', 'ray', 'shark', 'trout',  # fish\n",
    "                           'orchids', 'poppies', 'roses', 'sunflowers', 'tulips', # flowers\n",
    "                           'bottles', 'bowls', 'cans', 'cups', 'plates', # food containers\n",
    "                           'apples', 'mushrooms', 'oranges', 'pears', 'sweet peppers', # fruit and vegetables\n",
    "                           'clock', 'keyboard', 'lamp', 'telephone', 'television', # household electrical devices\n",
    "                           'bed', 'chair', 'couch', 'table', 'wardrobe', # household furniture\n",
    "                           'bee', 'beetle', 'butterfly', 'caterpillar', 'cockroach', # insects\n",
    "                           'bear', 'leopard', 'lion', 'tiger', 'wolf', # large carnivores\n",
    "                           'bridge', 'castle', 'house', 'road', 'skyscraper', # large man-made outdoor things\n",
    "                           'cloud', 'forest', 'mountain', 'plain', 'sea', # large natural outdoor scenes\n",
    "                           'camel', 'cattle', 'chimpanzee', 'elephant', 'kangaroo', # large omnivores and herbivores\n",
    "                           'fox', 'porcupine', 'possum', 'raccoon', 'skunk', # medium-sized mammals\n",
    "                           'crab', 'lobster', 'snail', 'spider', 'worm', # non-insect invertebrates\n",
    "                           'baby', 'boy', 'girl', 'man', 'woman', # people\n",
    "                           'crocodile', 'dinosaur', 'lizard', 'snake', 'turtle', # reptiles\n",
    "                           'hamster', 'mouse', 'rabbit', 'shrew', 'squirrel', # small mammals\n",
    "                           'maple', 'oak', 'palm', 'pine', 'willow', # trees\n",
    "                           'bicycle', 'bus', 'motorcycle', 'pickup truck', 'train', # vehicles 1\n",
    "                           'lawn-mower', 'rocket', 'streetcar', 'tank', 'tractor' # vehicles 2\n",
    "                          ])\n",
    "\n",
    "(train_images, train_targets), (test_images, test_targets) = cifar100.load_data()\n",
    "\n",
    "print(np.unique(test_targets))\n",
    "print(train_images.shape, train_targets.shape)\n",
    "print(test_images.shape, test_targets.shape)"
   ]
  },
  {
   "cell_type": "code",
   "execution_count": null,
   "id": "aab98316-2a9a-4ed8-8d18-07a55179d8e0",
   "metadata": {},
   "outputs": [],
   "source": [
    "import matplotlib.pyplot as plt\n",
    "\n",
    "def show_images(images, targets, ncols=8):\n",
    "    class_names = ['beaver', 'dolphin', 'otter', 'seal', 'whale',  # aquatic mammals\n",
    "                           'aquarium' 'fish', 'flatfish', 'ray', 'shark', 'trout',  # fish\n",
    "                           'orchids', 'poppies', 'roses', 'sunflowers', 'tulips', # flowers\n",
    "                           'bottles', 'bowls', 'cans', 'cups', 'plates', # food containers\n",
    "                           'apples', 'mushrooms', 'oranges', 'pears', 'sweet peppers', # fruit and vegetables\n",
    "                           'clock', 'keyboard', 'lamp', 'telephone', 'television', # household electrical devices\n",
    "                           'bed', 'chair', 'couch', 'table', 'wardrobe', # household furniture\n",
    "                           'bee', 'beetle', 'butterfly', 'caterpillar', 'cockroach', # insects\n",
    "                           'bear', 'leopard', 'lion', 'tiger', 'wolf', # large carnivores\n",
    "                           'bridge', 'castle', 'house', 'road', 'skyscraper', # large man-made outdoor things\n",
    "                           'cloud', 'forest', 'mountain', 'plain', 'sea', # large natural outdoor scenes\n",
    "                           'camel', 'cattle', 'chimpanzee', 'elephant', 'kangaroo', # large omnivores and herbivores\n",
    "                           'fox', 'porcupine', 'possum', 'raccoon', 'skunk', # medium-sized mammals\n",
    "                           'crab', 'lobster', 'snail', 'spider', 'worm', # non-insect invertebrates\n",
    "                           'baby', 'boy', 'girl', 'man', 'woman', # people\n",
    "                           'crocodile', 'dinosaur', 'lizard', 'snake', 'turtle', # reptiles\n",
    "                           'hamster', 'mouse', 'rabbit', 'shrew', 'squirrel', # small mammals\n",
    "                           'maple', 'oak', 'palm', 'pine', 'willow', # trees\n",
    "                           'bicycle', 'bus', 'motorcycle', 'pickup truck', 'train', # vehicles 1\n",
    "                           'lawn-mower', 'rocket', 'streetcar', 'tank', 'tractor' # vehicles 2\n",
    "                          ]\n",
    "    \n",
    "    fig, axes = plt.subplots(figsize=(22, 6), nrows=1, ncols=ncols)\n",
    "    for i in range(ncols):\n",
    "        axes[i].imshow(images[i])\n",
    "        target = targets[i].squeeze()\n",
    "        axes[i].set_title(class_names[int(target)])"
   ]
  },
  {
   "cell_type": "code",
   "execution_count": null,
   "id": "146eb8ca-2320-451e-9702-9599f2b1a059",
   "metadata": {},
   "outputs": [],
   "source": [
    "import numpy as np\n",
    "\n",
    "def get_preprocessed_data(images, targets):\n",
    "    images = np.array(images / 255.0, dtype=np.float32)\n",
    "    targets = np.array(targets, dtype=np.float32)\n",
    "\n",
    "    return images, targets\n",
    "\n",
    "train_images, train_targets = get_preprocessed_data(train_images, train_targets)\n",
    "test_images, test_targets = get_preprocessed_data(test_images, test_targets)"
   ]
  },
  {
   "cell_type": "code",
   "execution_count": null,
   "id": "9f051244-d698-4dcf-9446-18213ca98751",
   "metadata": {},
   "outputs": [],
   "source": [
    "train_targets = train_targets.squeeze()\n",
    "test_targets = test_targets.squeeze()\n",
    "\n",
    "print(train_images.shape, train_targets.shape)\n",
    "print(test_images.shape, test_targets.shape)"
   ]
  },
  {
   "cell_type": "code",
   "execution_count": null,
   "id": "f1064cfb-cfc9-4138-9dd5-cd8ac083828e",
   "metadata": {},
   "outputs": [],
   "source": [
    "from tensorflow.keras.models import Model\n",
    "from tensorflow.keras.layers import Input, Dense, Conv2D, Dropout, Flatten, MaxPooling2D, Activation\n",
    "from tensorflow.keras.callbacks import ModelCheckpoint, ReduceLROnPlateau, EarlyStopping\n",
    "\n",
    "IMAGE_SIZE = \n",
    "\n",
    "input_tensor = Input(shape=(IMAGE_SIZE, IMAGE_SIZE, 3))\n",
    "\n",
    "x = Conv2D(filters=32, kernel_size=3, padding='valid', activation='relu')(input_tensor)\n",
    "x = Conv2D(filters=32, kernel_size=3, padding='same', activation='relu')(x)\n",
    "x = MaxPooling2D(2)(x)\n",
    "\n",
    "x = Conv2D(filters=64, kernel_size=3, padding='same', activation='relu')(x)\n",
    "x = Conv2D(filters=64, kernel_size=3, padding='same')(x)\n",
    "x = Activation('relu')(x)\n",
    "x = MaxPooling2D(2)(x)\n",
    "\n",
    "x = Conv2D(filters=128, kernel_size=3, padding='same', activation='relu')(x)\n",
    "x = Conv2D(filters=128, kernel_size=3, padding='same')(x)\n",
    "x = Activation('relu')(x)\n",
    "\n",
    "\n",
    "x = Flatten(name='classifierA00')(x)\n",
    "x = Dropout(name='classifierA_DroupOut01', rate=0.5)(x)\n",
    "x = Dense(300, activation='relu', name='classifierAD01')(x)\n",
    "x = Dropout(name='classifierA_DroupOut02', rate=0.3)(x)\n",
    "output = Dense(10, activation='softmax', name='output')(x)\n",
    "\n",
    "model = Model(inputs=input_tensor, outputs=output)\n",
    "model.summary()"
   ]
  },
  {
   "cell_type": "code",
   "execution_count": null,
   "id": "5a34d791-2b1c-4af4-b9e5-d424e3e96ede",
   "metadata": {},
   "outputs": [],
   "source": [
    "from tensorflow.keras.optimizers import Adam\n",
    "from tensorflow.keras.losses import SparseCategoricalCrossentropy\n",
    "\n",
    "model.compile(optimizer=Adam(), loss=SparseCategoricalCrossentropy(), metrics=['acc'])"
   ]
  },
  {
   "cell_type": "code",
   "execution_count": null,
   "id": "b8b0bb5b-a0b5-49eb-b74a-5c9964ed42bd",
   "metadata": {},
   "outputs": [],
   "source": [
    "history = model.fit(x=train_images, y=train_targets, batch_size=64, epochs=30, validation_split=0.2)"
   ]
  },
  {
   "cell_type": "code",
   "execution_count": null,
   "id": "e5ca2f08-50fd-4c4c-90f1-5ad7b28b5094",
   "metadata": {},
   "outputs": [],
   "source": [
    "model.evaluate(test_images, test_targets, batch_size=64)"
   ]
  },
  {
   "cell_type": "code",
   "execution_count": null,
   "id": "9d4fa37c-0110-4ca5-8186-a83da6e3f221",
   "metadata": {},
   "outputs": [],
   "source": [
    "import matplotlib.pyplot as plt\n",
    "\n",
    "def show_history(history):\n",
    "    plt.plot(history.history['acc'], label='train')\n",
    "    plt.plot(history.history['val_acc'], label='validation')\n",
    "    plt.legend()\n",
    "    \n",
    "show_history(history)"
   ]
  },
  {
   "cell_type": "code",
   "execution_count": null,
   "id": "5a40ace9-015c-41fd-b9c1-edb6dacdd24f",
   "metadata": {},
   "outputs": [],
   "source": []
  },
  {
   "cell_type": "code",
   "execution_count": null,
   "id": "20b635c1-7b5f-49a0-ba1c-b082aa302eda",
   "metadata": {},
   "outputs": [],
   "source": []
  },
  {
   "cell_type": "code",
   "execution_count": null,
   "id": "529225da-6493-45db-99dd-f2d35999f120",
   "metadata": {},
   "outputs": [],
   "source": []
  },
  {
   "cell_type": "code",
   "execution_count": null,
   "id": "1bd04aa2-6b1c-40d7-a493-8fa7455fb1ab",
   "metadata": {},
   "outputs": [],
   "source": []
  },
  {
   "cell_type": "code",
   "execution_count": null,
   "id": "13895021-3463-48b6-ac95-9eacad635182",
   "metadata": {},
   "outputs": [],
   "source": []
  }
 ],
 "metadata": {
  "kernelspec": {
   "display_name": "Python 3 (ipykernel)",
   "language": "python",
   "name": "python3"
  },
  "language_info": {
   "codemirror_mode": {
    "name": "ipython",
    "version": 3
   },
   "file_extension": ".py",
   "mimetype": "text/x-python",
   "name": "python",
   "nbconvert_exporter": "python",
   "pygments_lexer": "ipython3",
   "version": "3.11.8"
  }
 },
 "nbformat": 4,
 "nbformat_minor": 5
}
