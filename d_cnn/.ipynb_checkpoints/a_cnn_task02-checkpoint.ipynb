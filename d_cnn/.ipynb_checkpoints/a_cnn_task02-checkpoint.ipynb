{
 "cells": [
  {
   "cell_type": "markdown",
   "id": "c435936d-41ad-415e-aaf0-1d3fe0c010d2",
   "metadata": {},
   "source": [
    "### 동물 분류\n",
    "https://drive.google.com/file/d/1_d8RcCM21XneorFe_m4939erMkCnccS1/view?usp=drive_link"
   ]
  },
  {
   "cell_type": "code",
   "execution_count": 8,
   "id": "4ac8be3d-c025-4748-b202-01ac87691838",
   "metadata": {},
   "outputs": [
    {
     "name": "stdout",
     "output_type": "stream",
     "text": [
      "{'cane': 'dog', 'cavallo': 'horse', 'elefante': 'elephant', 'farfalla': 'butterfly', 'gallina': 'chicken', 'gatto': 'cat', 'mucca': 'cow', 'pecora': 'sheep', 'scoiattolo': 'squirrel', 'dog': 'cane', 'elephant': 'elefante', 'butterfly': 'farfalla', 'chicken': 'gallina', 'cat': 'gatto', 'cow': 'mucca', 'spider': 'ragno', 'squirrel': 'scoiattolo'}\n",
      "{'dog': 'cane', 'horse': 'cavallo', 'elephant': 'elefante', 'butterfly': 'farfalla', 'chicken': 'gallina', 'cat': 'gatto', 'cow': 'mucca', 'sheep': 'pecora', 'squirrel': 'scoiattolo', 'cane': 'dog', 'elefante': 'elephant', 'farfalla': 'butterfly', 'gallina': 'chicken', 'gatto': 'cat', 'mucca': 'cow', 'ragno': 'spider', 'scoiattolo': 'squirrel'}\n"
     ]
    }
   ],
   "source": [
    "with open('./datasets/animals/translate.py') as f:\n",
    "    content = f.readline()\n",
    "    content1 = eval(content[content.index('{'):content.index('}')+1])\n",
    "    content2 = {v: k for k, v in content1.items()}\n",
    "\n",
    "print(content1, content2, sep='\\n')\n"
   ]
  },
  {
   "cell_type": "code",
   "execution_count": 9,
   "id": "1c70230b-2720-406f-a030-94625639c506",
   "metadata": {},
   "outputs": [],
   "source": [
    "from glob import glob\n",
    "import os\n",
    "\n",
    "root = \"./datasets/animals/original/\"\n",
    "\n",
    "directories = glob(os.path.join(root, '*'))\n",
    "\n",
    "for directory in directories:\n",
    "    try:\n",
    "        os.rename(directory, os.path.join(root, content1[directory[directory.rindex('\\\\')+1:]]))\n",
    "    except KeyError as e:\n",
    "        os.rename(directory, os.path.join(root, content2[directory[directory.rindex('\\\\')+1:]]))\n"
   ]
  },
  {
   "cell_type": "code",
   "execution_count": 14,
   "id": "3ff073ad-5e8e-44f7-8051-cad854b61482",
   "metadata": {},
   "outputs": [
    {
     "name": "stdout",
     "output_type": "stream",
     "text": [
      "['butterfly', 'cat', 'chicken', 'cow', 'dog', 'elephant', 'horse', 'sheep', 'spider', 'squirrel']\n"
     ]
    }
   ],
   "source": [
    "root = \"./datasets/animals/original/\"\n",
    "\n",
    "directories = glob(os.path.join(root, '*'))\n",
    "directory_names = []\n",
    "\n",
    "for directory in directories:\n",
    "    directory_names.append(os.path.basename(directory))\n",
    "\n",
    "print(directory_names)"
   ]
  },
  {
   "cell_type": "code",
   "execution_count": 16,
   "id": "0b7b2e81-a736-4a13-8c5e-7b3f0bfd4365",
   "metadata": {},
   "outputs": [],
   "source": [
    "root = \"./datasets/animals/original/\"\n",
    "\n",
    "for name in directory_names:\n",
    "    for i, file_name in enumerate(os.listdir(os.path.join(root, name))):\n",
    "        old_file = os.path.join(root+ name + '/',file_name)\n",
    "        new_file = os.path.join(root+ name + '/',name+str(i+1)+'.png')\n",
    "\n",
    "        os.rename(old_file, new_file)"
   ]
  },
  {
   "cell_type": "code",
   "execution_count": null,
   "id": "a753b46c-74c6-4729-b753-72d3dbbaa8b6",
   "metadata": {},
   "outputs": [],
   "source": []
  },
  {
   "cell_type": "code",
   "execution_count": null,
   "id": "dec4eb01-a0da-4166-8c22-4764ac523f54",
   "metadata": {},
   "outputs": [],
   "source": [
    "import pandas as pd\n",
    "\n",
    "a_df = pd.DataFrame({'file_paths': generator.filepaths, 'targets':generator.})\n",
    "a_df"
   ]
  },
  {
   "cell_type": "code",
   "execution_count": null,
   "id": "93a97426-acc3-4b41-9e7e-15e728bc6990",
   "metadata": {},
   "outputs": [],
   "source": [
    "a_df.loc[:, 'file_paths'] = a_df.file_paths.apply(lambda x: x.replace('\\\\', '/'))\n",
    "a_df"
   ]
  },
  {
   "cell_type": "code",
   "execution_count": null,
   "id": "ae1b2123-1ec6-43da-9dbf-139d2bc37fc5",
   "metadata": {},
   "outputs": [],
   "source": [
    "from sklearn.model_selection import train_test_split\n",
    "\n",
    "X_trian, X_test, y_train, y_test = train_test_split(a_df.file_paths, a_df.targets, stratify=a_df.targets, test_size=0.2, random_state=124)\n",
    "\n",
    "X_trian, X_validation, y_train, y_validation = train_test_split(X_trian, y_train, stratify=y_train, test_size=0.2, random_state=124)\n",
    "\n"
   ]
  },
  {
   "cell_type": "code",
   "execution_count": null,
   "id": "25798dae-dd76-4536-86e7-54fde2af29a7",
   "metadata": {},
   "outputs": [],
   "source": [
    "root = \"./datasets/animals/original/\"\n",
    "\n",
    "for file_path in X_train:\n",
    "    animal_dir = file_path[len(root+'original/'): file_path.rindex('/')]\n",
    "    destination = os.path.join(root, 'train/'+animal_dir)\n",
    "    if not os.path.exists(destination):\n",
    "        os.makedirs(destination)\n",
    "\n",
    "    shutil.copy2(file_path, destination)"
   ]
  },
  {
   "cell_type": "code",
   "execution_count": null,
   "id": "52b00e96-639b-49e8-9562-0bd39991d195",
   "metadata": {},
   "outputs": [],
   "source": [
    "root = \"./datasets/animals/original/\"\n",
    "\n",
    "for file_path in X_validation:\n",
    "    animal_dir = file_path[len(root+'original/'): file_path.rindex('/')]\n",
    "    destination = os.path.join(root, 'val/'+animal_dir)\n",
    "    if not os.path.exists(destination):\n",
    "        os.makedirs(destination)\n",
    "\n",
    "    shutil.copy2(file_path, destination)"
   ]
  },
  {
   "cell_type": "code",
   "execution_count": null,
   "id": "80ccabcc-a048-4d20-8c25-59271c3524c6",
   "metadata": {},
   "outputs": [],
   "source": [
    "root = \"./datasets/animals/original/\"\n",
    "\n",
    "for file_path in X_test:\n",
    "    animal_dir = file_path[len(root+'original/'): file_path.rindex('/')]\n",
    "    destination = os.path.join(root, 'test/'+animal_dir)\n",
    "    if not os.path.exists(destination):\n",
    "        os.makedirs(destination)\n",
    "\n",
    "    shutil.copy2(file_path, destination)"
   ]
  },
  {
   "cell_type": "code",
   "execution_count": null,
   "id": "855eaaca-3ee3-40d5-9c8d-c337901c0876",
   "metadata": {},
   "outputs": [],
   "source": []
  },
  {
   "cell_type": "code",
   "execution_count": null,
   "id": "2854e8c1-cd39-4754-a77b-626cbdeccee0",
   "metadata": {},
   "outputs": [],
   "source": []
  },
  {
   "cell_type": "code",
   "execution_count": null,
   "id": "ad81dff1-bc86-4c66-846c-d5ad87e1bf7f",
   "metadata": {},
   "outputs": [],
   "source": []
  },
  {
   "cell_type": "code",
   "execution_count": null,
   "id": "d3bdac3d-4031-4b50-9c40-7c2799edc2a8",
   "metadata": {},
   "outputs": [],
   "source": []
  },
  {
   "cell_type": "code",
   "execution_count": null,
   "id": "d55c2886-7b42-4b53-8bcf-a701573a2d3c",
   "metadata": {},
   "outputs": [],
   "source": []
  }
 ],
 "metadata": {
  "kernelspec": {
   "display_name": "Python 3 (ipykernel)",
   "language": "python",
   "name": "python3"
  },
  "language_info": {
   "codemirror_mode": {
    "name": "ipython",
    "version": 3
   },
   "file_extension": ".py",
   "mimetype": "text/x-python",
   "name": "python",
   "nbconvert_exporter": "python",
   "pygments_lexer": "ipython3",
   "version": "3.11.8"
  }
 },
 "nbformat": 4,
 "nbformat_minor": 5
}
