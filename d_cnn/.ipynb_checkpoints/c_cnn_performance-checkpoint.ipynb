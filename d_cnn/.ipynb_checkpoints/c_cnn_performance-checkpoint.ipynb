{
 "cells": [
  {
   "cell_type": "markdown",
   "id": "b34f8d3b-0559-485c-96ed-8485a31ffa58",
   "metadata": {},
   "source": [
    "### CNN Performance\r\n",
    "- CNN 모델을 제작할 때, 다양한 기법을 통해 성능 개선 및 과적합 개선이 가능하다.\r\n",
    "\r\n",
    "#### Weight Initialization, 가중치 초기화\r\n",
    "- 처음 가중치를 어떻게 줄 것인지를 정하는 방법이며, 처음 가중치를 어떻게 설정하느냐에 따라 모델의 성능이 크게 달라질 수 있다.\r\n",
    "  \r\n",
    "> 1. 사비에르 글로로트 초기화\r\n",
    "> - 고정된 표준편차를 사용하지 않고, 이전 층의 노드 수에 맞게 현재 층의 가중치를 초기화한다.\r\n",
    "> - 층마다 노드 개수를 다르게 설정하더라도 이에 맞게 가중치가 초기화되기 때문에 고정된 표준편차를 사용하는 것보다 이상치에 민감하지 않다.\r\n",
    "> - 활성화 함수가 ReLU일 때, 층이 지날 수록 활성화 값이 고르지 못하게 되는 문제가 생겨서, 출력층에서만 사용한다.\r\n",
    ">  \r\n",
    "> <div style=\"display: flex; margin-left: 50px;\">\r\n",
    "    <div>\r\n",
    "        <img src=\"./images/xavier01.png\">\r\n",
    "    </div>\r\n",
    "    <div>\r\n",
    "        <img src=\"./images/xavier02.png\" style=\"margin-left: 50px;\">\r\n",
    "    </div>\r\n",
    "</div>  \r\n",
    "\r\n",
    "> 2. 카이밍 히 초기화\r\n",
    "> - 고정된 표준편차를 사용하지 않고, 이전 층의 노드 수에 맞게 현재 층의 가중치를 초기화한다.\r\n",
    "> - 층마다 노드 개수를 다르게 설정하더라도 이에 맞게 가중치가 초기화되기 때문에 고정된 표준편차를 사용하는 것보다 이상치에 민감하지 않다.\r\n",
    "> - 활성화 함수가 ReLU일 때, 추천하는 초기화 방법으로서, 층이 깊어지더라도 모든 활성값이 고르게 분포된다.\r\n",
    "> <img src=\"./images/he.png\" style=\"margin-left: 50px;\">"
   ]
  },
  {
   "cell_type": "code",
   "execution_count": null,
   "id": "46312763-20f4-4377-9222-93fae03b3dff",
   "metadata": {},
   "outputs": [],
   "source": []
  },
  {
   "cell_type": "code",
   "execution_count": null,
   "id": "d5c15a11-f9ff-4067-90fb-c8ec677dd6e9",
   "metadata": {},
   "outputs": [],
   "source": []
  },
  {
   "cell_type": "code",
   "execution_count": null,
   "id": "9948b849-84db-4def-a995-258f0de652c3",
   "metadata": {},
   "outputs": [],
   "source": []
  },
  {
   "cell_type": "code",
   "execution_count": null,
   "id": "ced233ee-1a07-4b0e-9192-eab799d4f0f3",
   "metadata": {},
   "outputs": [],
   "source": []
  },
  {
   "cell_type": "code",
   "execution_count": null,
   "id": "1c458d3e-35d7-4a04-8318-db25d7c3fffd",
   "metadata": {},
   "outputs": [],
   "source": []
  },
  {
   "cell_type": "code",
   "execution_count": null,
   "id": "c379331a-fa9e-496e-b4c9-b346fd7affb9",
   "metadata": {},
   "outputs": [],
   "source": []
  },
  {
   "cell_type": "code",
   "execution_count": null,
   "id": "c2083bed-7a88-4cf9-81a0-8b8ea4dac1ec",
   "metadata": {},
   "outputs": [],
   "source": []
  },
  {
   "cell_type": "code",
   "execution_count": null,
   "id": "d6b57658-cbe2-465f-ae67-6ca93e62374f",
   "metadata": {},
   "outputs": [],
   "source": []
  },
  {
   "cell_type": "code",
   "execution_count": null,
   "id": "b2d41b2d-2e0d-4119-9df4-68d3cc88ae58",
   "metadata": {},
   "outputs": [],
   "source": []
  },
  {
   "cell_type": "code",
   "execution_count": null,
   "id": "d2ce9ef8-89da-4ea9-9faf-29d92d1d94cd",
   "metadata": {},
   "outputs": [],
   "source": []
  },
  {
   "cell_type": "code",
   "execution_count": null,
   "id": "b81049b6-1842-45b0-84e5-b946bbcb5b92",
   "metadata": {},
   "outputs": [],
   "source": []
  },
  {
   "cell_type": "code",
   "execution_count": null,
   "id": "d674fb2d-4d26-4fa9-86bc-b0fce26a0a97",
   "metadata": {},
   "outputs": [],
   "source": []
  },
  {
   "cell_type": "code",
   "execution_count": null,
   "id": "704502fd-3206-4c20-9542-14f28839ade1",
   "metadata": {},
   "outputs": [],
   "source": []
  }
 ],
 "metadata": {
  "kernelspec": {
   "display_name": "Python 3 (ipykernel)",
   "language": "python",
   "name": "python3"
  },
  "language_info": {
   "codemirror_mode": {
    "name": "ipython",
    "version": 3
   },
   "file_extension": ".py",
   "mimetype": "text/x-python",
   "name": "python",
   "nbconvert_exporter": "python",
   "pygments_lexer": "ipython3",
   "version": "3.11.8"
  }
 },
 "nbformat": 4,
 "nbformat_minor": 5
}
