{
 "cells": [
  {
   "cell_type": "markdown",
   "id": "2ee0d276-01fb-47e5-86c5-d5f2ad216d90",
   "metadata": {},
   "source": [
    "### Activation Funtion, 활성화 함수\n",
    "\n",
    "- 인공 신경망에서 입력 값에 가중치를 곱한 뒤 합한 결과를 적용하는 함수이다.\n",
    "---\n",
    "1. 시그모이드 함수\n",
    "   - 은닉층이 아닌 최종 활성화 함수 즉, 출력층에서 사용된다.\n",
    "   - 은닉층에서 사용 시, 입력 값이 양의 방향으로 큰 값일 경우 출력 값의 변화가 없으며, 음의 방향도 마찬가지이다.\n",
    "   - 평균이 0이 아니기 때문에 정규 분포 형태가 아니고, 이는 방향에 따라 기울기가 달라져서 탐색 경로가 비효율적(지그재그)이 된다.\n",
    "\n",
    "<img src='./images/sigmoid.png' width='500px'>\n",
    "\n",
    "2. 소프트맥스 함수\n",
    "   - 은닉층이 아닌 최종 활성화 함수(출력층)에서 사용된다.\n",
    "   - 시그모이드와 유사하게 0 ~ 1 사이의 값을 출력하지만, 이진 분류가 아닌 다중 분류를 통해 모든 확률값이 1이 되도록 해준다.\n",
    "   - 여러개의 타겟 데이터를 분류하는 다중 분류의 최종 활성화 함수(출력층)로 사용된다.\n",
    "  \n",
    "<img src='./images/softmax.png' width='450px'>\n",
    "\n",
    "3. 탄젠트 함수\n",
    "   - 은닉층이 아닌 최종 활성화 함수(출력층)에서 사용된다.\n",
    "   - 은닉층에서 사용 시, 시그모이드와 달리 -1 ~ 1 사이의 값을 출력해서 평균이 0이 될 수 있지만,\n",
    "     여전히 입력 값은 양의 방향으로 큰 값일 경우 출력값의 변화가 미비하고 음의 방향도 마찬가지이다.\n",
    "     \n",
    "<img src='./images/tanh.png' width='600px'>\n",
    "\n",
    "4. 렐루 함수\n",
    "   - 대표적인 은닉층의 활성 함수이다.\n",
    "   - 입력 값이 0보다 작으면 출력은 0, 0보다 크면 입력값을 출력하게 된다.\n",
    "  \n",
    "<img src='./images/relu.png' width='480px'>"
   ]
  },
  {
   "cell_type": "markdown",
   "id": "51f72987-ddd7-4a71-9467-2b728e30c3be",
   "metadata": {},
   "source": [
    "### Cross Entropy\r\n",
    "- 실제 데이터의 확률 분포와, 학습된 모델이 계산한 확률 분포의 차이를 구하는 데 사용된다.\r\n",
    "- 분류 문제에서 원-핫 인코딩을 통해 사용할 수 있는 오차 계산법이다.\r\n",
    "\r\n",
    "<img src=\"./images/cross_entropy01.png\" width=\"350\" style=\"margin:20px; margin-l10pxft:0\">\r\n",
    "<img src=\"./images/cross_entropy02.png\" width=\"700\" style=\"margin-left:0\">"
   ]
  },
  {
   "cell_type": "code",
   "execution_count": null,
   "id": "0149e238-9772-4134-808e-60746786ed93",
   "metadata": {},
   "outputs": [],
   "source": []
  },
  {
   "cell_type": "code",
   "execution_count": null,
   "id": "41df760c-8187-4a8f-b2cb-a9948dd2b5a6",
   "metadata": {},
   "outputs": [],
   "source": []
  },
  {
   "cell_type": "code",
   "execution_count": null,
   "id": "356140a0-9f67-493b-a367-5a0bf5eb7299",
   "metadata": {},
   "outputs": [],
   "source": []
  },
  {
   "cell_type": "code",
   "execution_count": null,
   "id": "cad44e26-3275-469d-a6f4-182fb2057e77",
   "metadata": {},
   "outputs": [],
   "source": []
  },
  {
   "cell_type": "code",
   "execution_count": null,
   "id": "a9d07e3f-9a96-4fde-b075-ae7500fb49b7",
   "metadata": {},
   "outputs": [],
   "source": []
  }
 ],
 "metadata": {
  "kernelspec": {
   "display_name": "Python 3 (ipykernel)",
   "language": "python",
   "name": "python3"
  },
  "language_info": {
   "codemirror_mode": {
    "name": "ipython",
    "version": 3
   },
   "file_extension": ".py",
   "mimetype": "text/x-python",
   "name": "python",
   "nbconvert_exporter": "python",
   "pygments_lexer": "ipython3",
   "version": "3.11.8"
  }
 },
 "nbformat": 4,
 "nbformat_minor": 5
}
