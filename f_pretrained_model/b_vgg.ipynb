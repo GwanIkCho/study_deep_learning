{
 "cells": [
  {
   "cell_type": "markdown",
   "id": "9c22019e-da96-4f31-acb9-b8e954022d7b",
   "metadata": {},
   "source": [
    "### VGGNet (옥스포드 대학의 연구팀)\n",
    "- 2014년 ILSVRC에서 GoogleNet이 1위, VGG가 2위를 차지했다.\n",
    "- GoogleNet의 오류율은 6.7%, VGG의 오류율은 7.3%이고, 0.6% 차이밖에 나지 않았다.\n",
    "- 간결하고 단순한 아키텍처임에도 불구하고 1위인 GoogleNet과 큰 차이 없는 성능을 보여서 주목을 받게 되었다.\n",
    "- 네트워크 깊이에 따라 모델 성능의 영향에 대한 연구에 집중하여 만들어진 네트워크이다.\n",
    "- 신경망을 깊게 만들 수록 성능이 좋아짐을 확인하였지만, 커널 사이즈가 클 수록 이미지 사이즈가 급격하게 축소되기 때문에, 더 깊은 층을 만들기 어렵고\n",
    "  파라미터 개수와 연산량도 더 많이 필요하다는 것을 알았다.\n",
    "- 따라서 Kernel 크기를 3X3으로 단일화했으며, Padding, Strides 값을 조정하여 단순한 네트워크로 구성되었다.\n",
    "- 2개의 3X3 커널은 5X5 커널과 동일한 크기의 feature map을 생성하기 때문에 3X3 커널로 연산하면, 층을 더 만들 수 있게된다.\n",
    "  \n",
    "<img src='./images/VGG.png'>"
   ]
  },
  {
   "cell_type": "code",
   "execution_count": null,
   "id": "3af373e2-e56a-475e-bbed-768552794a75",
   "metadata": {},
   "outputs": [],
   "source": []
  },
  {
   "cell_type": "code",
   "execution_count": null,
   "id": "c2fdfd77-c497-41f5-abb2-2b93500cf93f",
   "metadata": {},
   "outputs": [],
   "source": []
  },
  {
   "cell_type": "code",
   "execution_count": null,
   "id": "200fbb0b-6a4e-4c02-b3ed-1e9ff8ee23e6",
   "metadata": {},
   "outputs": [],
   "source": []
  },
  {
   "cell_type": "code",
   "execution_count": null,
   "id": "2892e680-8414-44cc-b683-0695e6365c32",
   "metadata": {},
   "outputs": [],
   "source": []
  },
  {
   "cell_type": "code",
   "execution_count": null,
   "id": "c25ffd7b-5897-47d5-9a15-b4ec523d2d3d",
   "metadata": {},
   "outputs": [],
   "source": []
  },
  {
   "cell_type": "code",
   "execution_count": null,
   "id": "9933d7f2-8b73-40d0-9b54-16fbd1f4e0af",
   "metadata": {},
   "outputs": [],
   "source": []
  },
  {
   "cell_type": "code",
   "execution_count": null,
   "id": "eb6b74cc-e810-49c7-825a-1a3c95cb892c",
   "metadata": {},
   "outputs": [],
   "source": []
  },
  {
   "cell_type": "code",
   "execution_count": null,
   "id": "1eacd23f-81b1-481b-95b3-097200546529",
   "metadata": {},
   "outputs": [],
   "source": []
  },
  {
   "cell_type": "code",
   "execution_count": null,
   "id": "844b4715-2e20-481f-8d94-60ef61025b32",
   "metadata": {},
   "outputs": [],
   "source": []
  },
  {
   "cell_type": "code",
   "execution_count": null,
   "id": "d6cd36ab-3a3e-41be-a2af-08d8d5fc2e1f",
   "metadata": {},
   "outputs": [],
   "source": []
  },
  {
   "cell_type": "code",
   "execution_count": null,
   "id": "13071661-17a7-46b6-bb6c-337cbdc3e9e2",
   "metadata": {},
   "outputs": [],
   "source": []
  },
  {
   "cell_type": "code",
   "execution_count": null,
   "id": "727c4a80-3680-4585-b15e-4904c23ad482",
   "metadata": {},
   "outputs": [],
   "source": []
  },
  {
   "cell_type": "code",
   "execution_count": null,
   "id": "e2a682ce-bc48-4ff8-8e50-3bc88d28859f",
   "metadata": {},
   "outputs": [],
   "source": []
  },
  {
   "cell_type": "code",
   "execution_count": null,
   "id": "d464aae8-305a-4532-8c2f-df809b713381",
   "metadata": {},
   "outputs": [],
   "source": []
  },
  {
   "cell_type": "code",
   "execution_count": null,
   "id": "51ca89a1-8828-484f-a743-813fbf41aa56",
   "metadata": {},
   "outputs": [],
   "source": []
  },
  {
   "cell_type": "code",
   "execution_count": null,
   "id": "51fbe522-4848-4077-92f6-8c3945dcfddb",
   "metadata": {},
   "outputs": [],
   "source": []
  },
  {
   "cell_type": "code",
   "execution_count": null,
   "id": "8203d746-811b-4041-b708-1c4c3bb0e402",
   "metadata": {},
   "outputs": [],
   "source": []
  }
 ],
 "metadata": {
  "kernelspec": {
   "display_name": "Python 3 (ipykernel)",
   "language": "python",
   "name": "python3"
  },
  "language_info": {
   "codemirror_mode": {
    "name": "ipython",
    "version": 3
   },
   "file_extension": ".py",
   "mimetype": "text/x-python",
   "name": "python",
   "nbconvert_exporter": "python",
   "pygments_lexer": "ipython3",
   "version": "3.11.8"
  }
 },
 "nbformat": 4,
 "nbformat_minor": 5
}
