{
 "cells": [
  {
   "cell_type": "markdown",
   "id": "29e8b011-4fe7-4109-9c5e-410f1d7f74d4",
   "metadata": {},
   "source": [
    "### Pretrained Model\r\n",
    "- 모델을 처음부터 학습하면 오랜 시간 학습을 해야한다. 이를 위해 대규모 학습 데이터 기반으로 사전에 훈련된 모델을 활용한다.\r\n",
    "- 대규모 데이터 세트에서 훈련되고 저장된 네트워크로서, 일반적으로 대규모 이미지 분류 작업에서 훈련된 것을 뜻한다.\r\n",
    "- 입력 이미지는 대부분 244 * 244 크기이며, 모델 별로 차이가 있다.\r\n",
    "- 자동차나 고양이 등을 포함한 1000개의 클래스, 총 1400만개의 이미지로 구성된 ImageNet 데이터 세트로 사전 훈련되었다.\r\n",
    "\r\n",
    "<img src=\"./images/pretrained_model.png\">  \r\n",
    "\r\n",
    "### ImageNet Large Scale Visual Recognition Challenge (ILSVRC)\r\n",
    "- 2017년까지 대회가 주최되었으며, 이후에도 좋은 모델들이 등장했고, 앞으로도 계속 등장할 것이다.\r\n",
    "- 메이저 플레이어들(구글, 마이크로소프트)이 만들어놓은 모델들도 등장했다.\r\n",
    "\r\n",
    "<img src=\"./images/ILSVRC.png\">"
   ]
  },
  {
   "cell_type": "code",
   "execution_count": null,
   "id": "0fa49c37-d27b-47fb-9d71-d701394f3f0b",
   "metadata": {},
   "outputs": [],
   "source": [
    "from tensorflow.keras.applications.vgg16 import VGG16\n",
    "\n",
    "model = VGG16()"
   ]
  },
  {
   "cell_type": "code",
   "execution_count": null,
   "id": "f433234b-25f8-49df-81b0-efcfed80fcb5",
   "metadata": {},
   "outputs": [],
   "source": []
  },
  {
   "cell_type": "code",
   "execution_count": null,
   "id": "e610c563-47ad-446b-a59d-96276740c5d7",
   "metadata": {},
   "outputs": [],
   "source": []
  },
  {
   "cell_type": "code",
   "execution_count": null,
   "id": "0701dd73-0f19-408c-983a-785304384fd5",
   "metadata": {},
   "outputs": [],
   "source": []
  },
  {
   "cell_type": "code",
   "execution_count": null,
   "id": "9ebe0466-f4a6-40a3-a6a7-85a2935615b0",
   "metadata": {},
   "outputs": [],
   "source": []
  },
  {
   "cell_type": "code",
   "execution_count": null,
   "id": "1e2de4c7-9c3a-4b04-9a4b-6528bb536a38",
   "metadata": {},
   "outputs": [],
   "source": []
  },
  {
   "cell_type": "code",
   "execution_count": null,
   "id": "0c1ba8e0-41ce-4334-a20c-28ab3bd7ca41",
   "metadata": {},
   "outputs": [],
   "source": []
  },
  {
   "cell_type": "code",
   "execution_count": null,
   "id": "c8294fa8-1ab2-4eb7-bd05-42fef2e376a7",
   "metadata": {},
   "outputs": [],
   "source": []
  },
  {
   "cell_type": "code",
   "execution_count": null,
   "id": "d82a592e-c052-440f-8655-3618aa3f8dc7",
   "metadata": {},
   "outputs": [],
   "source": []
  },
  {
   "cell_type": "code",
   "execution_count": null,
   "id": "83d6d41a-af2f-430b-83bb-6131d6e996ca",
   "metadata": {},
   "outputs": [],
   "source": []
  },
  {
   "cell_type": "code",
   "execution_count": null,
   "id": "629ae6c3-40b3-451d-8c9f-83a0fc9d5dd0",
   "metadata": {},
   "outputs": [],
   "source": []
  },
  {
   "cell_type": "code",
   "execution_count": null,
   "id": "95218ee6-175c-4fd9-8c99-6cfce41a1f60",
   "metadata": {},
   "outputs": [],
   "source": []
  },
  {
   "cell_type": "code",
   "execution_count": null,
   "id": "1cecd23b-ee10-4d76-aaed-3137fbf97a13",
   "metadata": {},
   "outputs": [],
   "source": []
  },
  {
   "cell_type": "code",
   "execution_count": null,
   "id": "0c7de56d-d14e-4777-ac9a-526b8164c09a",
   "metadata": {},
   "outputs": [],
   "source": []
  },
  {
   "cell_type": "code",
   "execution_count": null,
   "id": "3ec153de-c0f0-41c5-8114-5afe92e083e3",
   "metadata": {},
   "outputs": [],
   "source": []
  },
  {
   "cell_type": "code",
   "execution_count": null,
   "id": "3df10fd8-8a1d-453d-acc0-3e959fde0d52",
   "metadata": {},
   "outputs": [],
   "source": []
  },
  {
   "cell_type": "code",
   "execution_count": null,
   "id": "b7c7145d-96c7-46be-8944-8858010edc03",
   "metadata": {},
   "outputs": [],
   "source": []
  },
  {
   "cell_type": "code",
   "execution_count": null,
   "id": "5367132f-f54a-4434-b5e6-bdcfe7b7efa6",
   "metadata": {},
   "outputs": [],
   "source": []
  },
  {
   "cell_type": "code",
   "execution_count": null,
   "id": "9489b67a-c24f-4df7-a6ab-7c82e58ef9bc",
   "metadata": {},
   "outputs": [],
   "source": []
  },
  {
   "cell_type": "code",
   "execution_count": null,
   "id": "955b2663-b7aa-4c02-a593-cd0a6b443049",
   "metadata": {},
   "outputs": [],
   "source": []
  },
  {
   "cell_type": "code",
   "execution_count": null,
   "id": "d92385fa-6c72-485a-9c6a-d8c0fc648828",
   "metadata": {},
   "outputs": [],
   "source": []
  },
  {
   "cell_type": "code",
   "execution_count": null,
   "id": "9b0eddff-2742-4a0d-ba13-9a175df4e37c",
   "metadata": {},
   "outputs": [],
   "source": []
  }
 ],
 "metadata": {
  "kernelspec": {
   "display_name": "Python 3 (ipykernel)",
   "language": "python",
   "name": "python3"
  },
  "language_info": {
   "codemirror_mode": {
    "name": "ipython",
    "version": 3
   },
   "file_extension": ".py",
   "mimetype": "text/x-python",
   "name": "python",
   "nbconvert_exporter": "python",
   "pygments_lexer": "ipython3",
   "version": "3.11.8"
  }
 },
 "nbformat": 4,
 "nbformat_minor": 5
}
