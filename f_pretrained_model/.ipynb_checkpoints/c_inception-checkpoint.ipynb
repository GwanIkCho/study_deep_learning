{
 "cells": [
  {
   "cell_type": "markdown",
   "id": "a8fb8556-c80c-4b7e-954b-7a9844297810",
   "metadata": {},
   "source": [
    "### Inception Network (GoogleNet)\r\n",
    "\r\n",
    "<img src=\"./images/GoogLeNet.png\" width=\"550\" style=\"margin-top:20px; margin-left: 0\">\r\n",
    "<img src=\"./images/Inception_Network.png\" width=\"900\" style=\"margin-top:20px; margin-left: 0\">"
   ]
  },
  {
   "cell_type": "code",
   "execution_count": null,
   "id": "473f24dd-55d1-4232-956f-c7e17e9e4c02",
   "metadata": {},
   "outputs": [],
   "source": []
  },
  {
   "cell_type": "code",
   "execution_count": null,
   "id": "a3415437-eb2a-421c-8e05-eaf519369dd0",
   "metadata": {},
   "outputs": [],
   "source": []
  },
  {
   "cell_type": "code",
   "execution_count": null,
   "id": "35209ac3-b7ba-4939-9f23-ffd984cb47a3",
   "metadata": {},
   "outputs": [],
   "source": []
  },
  {
   "cell_type": "code",
   "execution_count": null,
   "id": "48ac53b3-90d2-47bc-b74e-ed11506140f3",
   "metadata": {},
   "outputs": [],
   "source": []
  },
  {
   "cell_type": "code",
   "execution_count": null,
   "id": "52285b01-549e-4912-90e1-cf9926a7c8d0",
   "metadata": {},
   "outputs": [],
   "source": []
  },
  {
   "cell_type": "code",
   "execution_count": null,
   "id": "07ea7c02-f734-4374-b1f2-25f672889d6e",
   "metadata": {},
   "outputs": [],
   "source": []
  },
  {
   "cell_type": "code",
   "execution_count": null,
   "id": "9db14dca-2e1e-4ff4-9897-59a20cdbac0d",
   "metadata": {},
   "outputs": [],
   "source": []
  },
  {
   "cell_type": "code",
   "execution_count": null,
   "id": "79ef0c0e-861a-41c3-a972-19887f37ddba",
   "metadata": {},
   "outputs": [],
   "source": []
  },
  {
   "cell_type": "code",
   "execution_count": null,
   "id": "dc24a138-31a9-418b-828f-e432b8decb95",
   "metadata": {},
   "outputs": [],
   "source": []
  },
  {
   "cell_type": "code",
   "execution_count": null,
   "id": "04bea44a-25cb-41ed-8d0d-823b8a934393",
   "metadata": {},
   "outputs": [],
   "source": []
  },
  {
   "cell_type": "code",
   "execution_count": null,
   "id": "182e814b-bcb4-48e6-aa62-2707537a0c43",
   "metadata": {},
   "outputs": [],
   "source": []
  },
  {
   "cell_type": "code",
   "execution_count": null,
   "id": "bb3e4b65-4fb8-47a7-a2c0-3bacca57471b",
   "metadata": {},
   "outputs": [],
   "source": []
  },
  {
   "cell_type": "code",
   "execution_count": null,
   "id": "c52ea558-b4e1-45e9-a90d-979b022621e6",
   "metadata": {},
   "outputs": [],
   "source": []
  },
  {
   "cell_type": "code",
   "execution_count": null,
   "id": "34acd51e-9bd0-4cb0-a9c8-d19f248fd748",
   "metadata": {},
   "outputs": [],
   "source": []
  },
  {
   "cell_type": "code",
   "execution_count": null,
   "id": "49f73224-1de1-4297-aaa7-610e86375019",
   "metadata": {},
   "outputs": [],
   "source": []
  },
  {
   "cell_type": "code",
   "execution_count": null,
   "id": "2503a0d1-92e8-4524-9bf7-d236423c7f20",
   "metadata": {},
   "outputs": [],
   "source": []
  },
  {
   "cell_type": "code",
   "execution_count": null,
   "id": "e6014190-cf1f-4c49-a691-c75c899493b8",
   "metadata": {},
   "outputs": [],
   "source": []
  },
  {
   "cell_type": "code",
   "execution_count": null,
   "id": "194c5b88-2b33-4e84-9ed5-30974c4191a8",
   "metadata": {},
   "outputs": [],
   "source": []
  },
  {
   "cell_type": "code",
   "execution_count": null,
   "id": "e06c4ddc-61a0-457a-958f-2849782e58e3",
   "metadata": {},
   "outputs": [],
   "source": []
  },
  {
   "cell_type": "code",
   "execution_count": null,
   "id": "e2075c6f-bcc2-4678-8658-aa3ebfb11c6a",
   "metadata": {},
   "outputs": [],
   "source": []
  },
  {
   "cell_type": "code",
   "execution_count": null,
   "id": "c31d2717-90eb-4f9a-97d7-30233d9b9688",
   "metadata": {},
   "outputs": [],
   "source": []
  },
  {
   "cell_type": "code",
   "execution_count": null,
   "id": "6716e33e-bc99-4fdb-a451-b31ebb771588",
   "metadata": {},
   "outputs": [],
   "source": []
  },
  {
   "cell_type": "code",
   "execution_count": null,
   "id": "559f9c43-4f3a-4c24-bad9-c6f76e52103d",
   "metadata": {},
   "outputs": [],
   "source": []
  }
 ],
 "metadata": {
  "kernelspec": {
   "display_name": "Python 3 (ipykernel)",
   "language": "python",
   "name": "python3"
  },
  "language_info": {
   "codemirror_mode": {
    "name": "ipython",
    "version": 3
   },
   "file_extension": ".py",
   "mimetype": "text/x-python",
   "name": "python",
   "nbconvert_exporter": "python",
   "pygments_lexer": "ipython3",
   "version": "3.11.8"
  }
 },
 "nbformat": 4,
 "nbformat_minor": 5
}
