{
 "cells": [
  {
   "cell_type": "markdown",
   "id": "0b6c1a72-2e0f-49c9-8c51-d018cca19369",
   "metadata": {},
   "source": [
    "### ResNet (마이크로소프트)\r\n",
    "- VGG 이후 더 깊은 Network에 대한 연구가 증가했지만, Network 깊이가 깊어질 수록 오히려 accuracy가 떨어지는 문제가 있었다.\r\n",
    "- 층이 깊어질 수록 계속해서 기울기가 0에 가까워지는 Grdient vanishing이 발생하기 때문이다.\r\n",
    "\r\n",
    "<img src=\"./images/ResNet01.png\" width=\"400\">  \r\n",
    "\r\n",
    "- 이를 해결하고자 층을 만들되, Input 데이터와 결과가 동일하게 나올 수 있도록 하는 층을 연구하기 시작했다.  \r\n",
    "  함수로 나타내면 H(x) = x이다.\r\n",
    "- 하지만 활성화 함수를 통과한 값을 기존 Input 데이터와 동일하게 만드는 것은 굉장히 복잡했기 때문에  \r\n",
    "  H(x) = F(x) + x 즉, F(x)를 0으로 만드는 F(x)에 포커스를 하게 된다.\r\n",
    "- input은 x이고, Model인 F(x)라는 일련의 과정을 거치면서 자신인 x가 더해져서 output으로 F(x) + x가 나오는 구조가 된다.\r\n",
    "\r\n",
    "<img src=\"./images/ResNet02.png\" style=\"margin:30px; margin-left: 0;\">\r\n",
    "<img src=\"./images/ResNet03.png\" width=\"400\" style=\"margin:30px; margin-left: 0;\">"
   ]
  },
  {
   "cell_type": "code",
   "execution_count": null,
   "id": "894695ba-fa8f-4180-9aec-c78d2f2b7616",
   "metadata": {},
   "outputs": [],
   "source": []
  },
  {
   "cell_type": "code",
   "execution_count": null,
   "id": "1ce76225-80a2-4859-810c-ee6f92704536",
   "metadata": {},
   "outputs": [],
   "source": []
  },
  {
   "cell_type": "code",
   "execution_count": null,
   "id": "2b932119-7329-4d96-bad1-19f429d71c34",
   "metadata": {},
   "outputs": [],
   "source": []
  },
  {
   "cell_type": "code",
   "execution_count": null,
   "id": "f7d181f0-2bdb-45cb-8fd8-04b5238ac81d",
   "metadata": {},
   "outputs": [],
   "source": []
  },
  {
   "cell_type": "code",
   "execution_count": null,
   "id": "5b74a38f-205a-4408-b9f8-edc62123f22e",
   "metadata": {},
   "outputs": [],
   "source": []
  },
  {
   "cell_type": "code",
   "execution_count": null,
   "id": "860b8cc3-52a8-4173-ae21-1eccf332a1a1",
   "metadata": {},
   "outputs": [],
   "source": []
  },
  {
   "cell_type": "code",
   "execution_count": null,
   "id": "d5f3195d-52c1-4d48-ab9f-93f590010d88",
   "metadata": {},
   "outputs": [],
   "source": []
  },
  {
   "cell_type": "code",
   "execution_count": null,
   "id": "2430cab3-8467-428d-b7c5-ef5087fce884",
   "metadata": {},
   "outputs": [],
   "source": []
  },
  {
   "cell_type": "code",
   "execution_count": null,
   "id": "43fbb04a-b458-4fe4-8072-6dc8bfbc515a",
   "metadata": {},
   "outputs": [],
   "source": []
  },
  {
   "cell_type": "code",
   "execution_count": null,
   "id": "5ff9a933-4a83-435c-b765-4e5252c00234",
   "metadata": {},
   "outputs": [],
   "source": []
  },
  {
   "cell_type": "code",
   "execution_count": null,
   "id": "93570a9e-a16c-411c-a8bd-05e07ea90184",
   "metadata": {},
   "outputs": [],
   "source": []
  },
  {
   "cell_type": "code",
   "execution_count": null,
   "id": "2d5cc61d-20d2-44c2-bddb-47972dd9f205",
   "metadata": {},
   "outputs": [],
   "source": []
  },
  {
   "cell_type": "code",
   "execution_count": null,
   "id": "c65f550c-09b3-4404-8988-5d3695add331",
   "metadata": {},
   "outputs": [],
   "source": []
  },
  {
   "cell_type": "code",
   "execution_count": null,
   "id": "7a45364c-0556-43fd-8efc-ee8d1a7944d6",
   "metadata": {},
   "outputs": [],
   "source": []
  },
  {
   "cell_type": "code",
   "execution_count": null,
   "id": "55552ea8-397b-4ec1-96df-bb956768dc99",
   "metadata": {},
   "outputs": [],
   "source": []
  }
 ],
 "metadata": {
  "kernelspec": {
   "display_name": "Python 3 (ipykernel)",
   "language": "python",
   "name": "python3"
  },
  "language_info": {
   "codemirror_mode": {
    "name": "ipython",
    "version": 3
   },
   "file_extension": ".py",
   "mimetype": "text/x-python",
   "name": "python",
   "nbconvert_exporter": "python",
   "pygments_lexer": "ipython3",
   "version": "3.11.8"
  }
 },
 "nbformat": 4,
 "nbformat_minor": 5
}
